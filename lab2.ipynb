{
 "cells": [
  {
   "cell_type": "markdown",
   "metadata": {},
   "source": [
    "# Lab 2 notebook\n",
    "\n",
    "We have already prepared some tests for you for Question 1.\n",
    "\n",
    "You can answer the rest of the questions by writing code in new cells at the end of this notebook."
   ]
  },
  {
   "cell_type": "code",
   "execution_count": 1,
   "metadata": {},
   "outputs": [
    {
     "name": "stdout",
     "output_type": "stream",
     "text": [
      "[50, 120, 310, 70, 250]\n",
      "[-50, 120, -310, 70, 250]\n",
      "[5, -12, 31, -7, -25]\n",
      "[]\n",
      "[]\n"
     ]
    }
   ],
   "source": [
    "def multAll(A, k):\n",
    "    # you need to implement this function\n",
    "    for i in range(len(A)):\n",
    "        A[i] = A[i] * k\n",
    "    return A\n",
    "\n",
    "# test 0\n",
    "A = [5,12,31,7,25]\n",
    "multAll(A, 10)\n",
    "print(A)  # should print [50,120,310,70,250]\n",
    "\n",
    "# test 1\n",
    "A = [-5,12,-31,7,25]\n",
    "multAll(A, 10)\n",
    "print(A)  # should print [-50,120,-310,70,250]\n",
    "\n",
    "# test 2\n",
    "A = [-5,12,-31,7,25]\n",
    "multAll(A, -1)\n",
    "print(A)  # should print [5,-12,31,-7,-25\n",
    "\n",
    "# test 3\n",
    "A = []\n",
    "multAll(A, 10)\n",
    "print(A)  # should print []\n",
    "\n",
    "# test 4\n",
    "A = []\n",
    "multAll(A, -1)\n",
    "print(A)  # should print []"
   ]
  },
  {
   "cell_type": "code",
   "execution_count": 2,
   "metadata": {},
   "outputs": [
    {
     "name": "stdout",
     "output_type": "stream",
     "text": [
      "[50, 120, 310, 70, 250]\n",
      "[5, 12, 31, 7, 25]\n",
      "[-50, 120, -310, 70, 250]\n",
      "[-5, 12, -31, 7, 25]\n",
      "[5, -12, 31, -7, -25]\n",
      "[-5, 12, -31, 7, 25]\n",
      "[]\n",
      "[]\n",
      "[]\n",
      "[]\n"
     ]
    }
   ],
   "source": [
    "def multAll2(A, k):\n",
    "    # you need to implement this function\n",
    "    B = []    \n",
    "    for i in range(len(A)):\n",
    "        B.append(A[i]*k)\n",
    "    return B\n",
    "# test 0\n",
    "A = [5,12,31,7,25]\n",
    "print(multAll2(A, 10))  # should print [50,120,310,70,250]\n",
    "print(A)  # should print [5,12,31,7,25]\n",
    "\n",
    "# test 1\n",
    "A = [-5,12,-31,7,25]\n",
    "print(multAll2(A, 10))  # should print [-50,120,-310,70,250]\n",
    "print(A)  # should print [-5,12,-31,7,25]\n",
    "\n",
    "# test 2\n",
    "A = [-5,12,-31,7,25]\n",
    "print(multAll2(A, -1))  # should print [5,-12,31,-7,-25]\n",
    "print(A)  # should print [-5,12,-31,7,25]\n",
    "\n",
    "# test 3\n",
    "A = []\n",
    "print(multAll2(A, 10))  # should print []\n",
    "print(A)  # should print []\n",
    "\n",
    "# test 4\n",
    "A = []\n",
    "print(multAll2(A, -1))  # should print []\n",
    "print(A)  # should print []"
   ]
  },
  {
   "cell_type": "code",
   "execution_count": 5,
   "metadata": {},
   "outputs": [
    {
     "data": {
      "text/plain": [
       "31"
      ]
     },
     "execution_count": 5,
     "metadata": {},
     "output_type": "execute_result"
    }
   ],
   "source": [
    "def biggestIn(A):\n",
    "    tmp = A[0]    \n",
    "    for i in range(len(A)):\n",
    "        if A[i] >= tmp:\n",
    "            tmp = A[i]\n",
    "    return tmp\n",
    "        \n",
    "biggestIn([5,12,31,7,25])\n"
   ]
  },
  {
   "cell_type": "code",
   "execution_count": 6,
   "metadata": {},
   "outputs": [
    {
     "data": {
      "text/plain": [
       "2"
      ]
     },
     "execution_count": 6,
     "metadata": {},
     "output_type": "execute_result"
    }
   ],
   "source": [
    "def biggestInPos(A):\n",
    "    tmp = A[0] \n",
    "    pos = 0\n",
    "    for i in range(len(A)):\n",
    "        if A[i] >= tmp:\n",
    "            tmp = A[i]\n",
    "            pos = i\n",
    "    return pos\n",
    "\n",
    "biggestInPos([5,12,31,7,25])"
   ]
  },
  {
   "cell_type": "code",
   "execution_count": 7,
   "metadata": {},
   "outputs": [
    {
     "data": {
      "text/plain": [
       "3"
      ]
     },
     "execution_count": 7,
     "metadata": {},
     "output_type": "execute_result"
    }
   ],
   "source": [
    "def occurInBoth(A, B):\n",
    "    occurBoth = 0\n",
    "    for i in range(len(A)):\n",
    "        for j in range(len(B)):\n",
    "            if A[i] == B[j]:\n",
    "                occurBoth += 1\n",
    "    return occurBoth\n",
    "\n",
    "occurInBoth([5,12,31,7,25],[4,12,8,7,42,31])\n",
    "                "
   ]
  },
  {
   "cell_type": "code",
   "execution_count": 13,
   "metadata": {},
   "outputs": [
    {
     "data": {
      "text/plain": [
       "[2, 5, 8]"
      ]
     },
     "execution_count": 13,
     "metadata": {},
     "output_type": "execute_result"
    }
   ],
   "source": [
    "def biggestIn(A):\n",
    "    tmp = 0  \n",
    "    for i in range(len(A)):\n",
    "        if A[i] >= tmp:\n",
    "            tmp = A[i]\n",
    "    return tmp\n",
    "\n",
    "def biggestInPos2(A):    \n",
    "    arrayPos = []\n",
    "    biggestVal = biggestIn(A)\n",
    "    for i in range(len(A)):\n",
    "        if A[i] == biggestVal:\n",
    "            arrayPos.append(i)\n",
    "    return arrayPos\n",
    "\n",
    "biggestInPos2([5,12,31,7,25,31,18,7,31])\n",
    "biggestInPos2([])"
   ]
  },
  {
   "cell_type": "code",
   "execution_count": null,
   "metadata": {},
   "outputs": [],
   "source": []
  }
 ],
 "metadata": {
  "kernelspec": {
   "display_name": "Python 3",
   "language": "python",
   "name": "python3"
  },
  "language_info": {
   "codemirror_mode": {
    "name": "ipython",
    "version": 3
   },
   "file_extension": ".py",
   "mimetype": "text/x-python",
   "name": "python",
   "nbconvert_exporter": "python",
   "pygments_lexer": "ipython3",
   "version": "3.8.3"
  }
 },
 "nbformat": 4,
 "nbformat_minor": 2
}
