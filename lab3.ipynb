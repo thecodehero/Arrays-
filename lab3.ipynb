{
 "cells": [
  {
   "cell_type": "markdown",
   "metadata": {},
   "source": [
    "1. 500 + 5logn\n",
    "Θ(logn)\n",
    "2. 5000\n",
    "Θ(1)\n",
    "3. 500 + n + 5logn + 50n\n",
    "Θ(n)\n",
    "4. 5nlogn + 2^n + 300n \n",
    "Θ(n^50)\n",
    "5. 5(logn)^13+ 300n^6 + 30n^5 logn + 100\n",
    "Θ(n^6)"
   ]
  },
  {
   "cell_type": "code",
   "execution_count": 5,
   "metadata": {},
   "outputs": [
    {
     "name": "stdout",
     "output_type": "stream",
     "text": [
      "[2, 9, 0, 2]\n"
     ]
    }
   ],
   "source": [
    "import random\n",
    "\n",
    "def randomIntArray(s,n):\n",
    "    A = []\n",
    "    #A = [0 for i in range(s)]\n",
    "    for i in range(0,s):\n",
    "        r = random.randint(0,n)\n",
    "        A.append(r)\n",
    "    return A\n",
    "\n",
    "print(randomIntArray(4,10))"
   ]
  },
  {
   "cell_type": "code",
   "execution_count": 7,
   "metadata": {},
   "outputs": [
    {
     "name": "stdout",
     "output_type": "stream",
     "text": [
      "0.0\n",
      "0.0\n",
      "0.0\n",
      "0.04208731651306152\n"
     ]
    }
   ],
   "source": [
    "import time\n",
    "\n",
    "def selectionSort(A):\n",
    "     for i in range(len(A)):\n",
    "            imin = findMin(i,A)\n",
    "            swap(i,imin,A)\n",
    "\n",
    "def findMin(i, A):\n",
    "    imin = i\n",
    "    for j in range(i+1,len(A)):\n",
    "         if A[j] < A[imin]:\n",
    "            imin = j\n",
    "    return imin\n",
    "\n",
    "def swap(i, j, A):\n",
    "    tmp = A[i]\n",
    "    A[i] = A[j]\n",
    "    A[j] = tmp\n",
    "\n",
    "def sortTime(A):    \n",
    "    t = time.time()\n",
    "    selectionSort(A)\n",
    "    t = time.time() - t\n",
    "    return t\n",
    "\n",
    "print(sortTime([1,2,3,4]))\n",
    "print(sortTime([4,2,1,5]))\n",
    "print(sortTime([3,7,3,2]))\n",
    "print(sortTime(randomIntArray(1000, 100)))"
   ]
  },
  {
   "cell_type": "code",
   "execution_count": null,
   "metadata": {},
   "outputs": [],
   "source": []
  },
  {
   "cell_type": "code",
   "execution_count": 30,
   "metadata": {},
   "outputs": [
    {
     "name": "stdout",
     "output_type": "stream",
     "text": [
      "0.0\n",
      "0.0\n",
      "0.0\n",
      "0.002167940139770508\n",
      "0.0069828033447265625\n"
     ]
    }
   ],
   "source": [
    "import random\n",
    "\n",
    "def randomIntArray(s,n):\n",
    "    A = []\n",
    "    for i in range(0,s):\n",
    "        r = random.randint(0,n)\n",
    "        A.append(r)\n",
    "    return A\n",
    "\n",
    "def sortTime(A):    \n",
    "    t = time.time()\n",
    "    A.sort()\n",
    "    t = time.time() - t\n",
    "    return t\n",
    "\n",
    "print(sortTime(randomIntArray(10,9)))\n",
    "print(sortTime(randomIntArray(100,9)))\n",
    "print(sortTime(randomIntArray(1000,9)))\n",
    "print(sortTime(randomIntArray(10000,9)))\n",
    "print(sortTime(randomIntArray(100000,9)))"
   ]
  },
  {
   "cell_type": "code",
   "execution_count": 5,
   "metadata": {},
   "outputs": [
    {
     "name": "stdout",
     "output_type": "stream",
     "text": [
      "0.0\n",
      "0.0\n"
     ]
    }
   ],
   "source": [
    "import time\n",
    " \n",
    "def selectionSort(A):\n",
    " for i in range(len(A)):\n",
    "     imin = findMin(i,A)\n",
    "     swap(i,imin,A)\n",
    "\n",
    "def findMin(i, A):\n",
    " imin = i\n",
    " for j in range(i+1,len(A)):\n",
    "     if A[j] < A[imin]:\n",
    "         imin = j\n",
    " return imin\n",
    "\n",
    "def swap(i, j, A):\n",
    " tmp = A[i]\n",
    " A[i] = A[j]\n",
    " A[j] = tmp\n",
    "\n",
    "def insertionSort(A):\n",
    " for i in range(1,len(A)):\n",
    "     insert(A[i],A,i)\n",
    "        \n",
    "def insert(v, A, hi):\n",
    " for i in range(hi-1,-1,-1):\n",
    "     if v >= A[i]:\n",
    "         A[i+1] = v\n",
    "         return\n",
    "     A[i+1] = A[i]\n",
    " A[0] = v\n",
    "\n",
    "    \n",
    "def sortTimeUsing(sortf,A):\n",
    "    t = time.time()\n",
    "    sortf\n",
    "    t = time.time() - t\n",
    "    return t\n",
    "\n",
    "A = [45,36,76,23,64]\n",
    "\n",
    "print(sortTimeUsing(insertionSort(A),A))\n",
    "print(sortTimeUsing(selectionSort(A),A))\n",
    "    "
   ]
  },
  {
   "cell_type": "code",
   "execution_count": 8,
   "metadata": {},
   "outputs": [
    {
     "name": "stdout",
     "output_type": "stream",
     "text": [
      "[1, 2, 3, 4, 5, 6, 7, 8, 9, 10]\n",
      "23\n",
      "9\n",
      "45\n"
     ]
    }
   ],
   "source": [
    "def insertionSort2(A):\n",
    "    numComparison = 0\n",
    "    for i in range(1,len(A)):        \n",
    "        x = insert(A[i],A,i)  \n",
    "        numComparison += x\n",
    "    return numComparison\n",
    "    \n",
    "def insert(v, A, hi):\n",
    "    numComparisons = 0\n",
    "    for i in range(hi-1,-1,-1):\n",
    "        if v >= A[i]:\n",
    "            A[i+1] = v \n",
    "            numComparisons += 1\n",
    "            return numComparisons\n",
    "        A[i+1] = A[i]\n",
    "        numComparisons += 1\n",
    "    A[0] = v    \n",
    "    return numComparisons\n",
    "\n",
    "A = [2,4,6,8,10,1,3,5,7,9] \n",
    "B = [1,2,3,4,5,6,7,8,9,10] \n",
    "C = [10,9,8,7,6,5,4,3,2,1]\n",
    "\n",
    "x = insertionSort2(A)\n",
    "y = insertionSort2(B)\n",
    "z = insertionSort2(C)\n",
    "print(A)\n",
    "#print(B)\n",
    "#print(C)\n",
    "print(x)\n",
    "print(y)\n",
    "print(z)\n"
   ]
  },
  {
   "cell_type": "code",
   "execution_count": 9,
   "metadata": {},
   "outputs": [
    {
     "name": "stdout",
     "output_type": "stream",
     "text": [
      "[2, 4, 6, 8, 10, 1, 3, 5, 7, 9]\n",
      "[1, 2, 3, 4, 5, 6, 7, 8, 10]\n"
     ]
    }
   ],
   "source": [
    "def insertionSort3(A,X):   \n",
    "    for j in range(0,len(A)-1):\n",
    "        X.append(A[j])\n",
    "    for i in range(1,len(X)):        \n",
    "        insert(X[i],X,i)        \n",
    "\n",
    "def insert(v, X, hi):\n",
    "    for i in range(hi-1,-1,-1):#\n",
    "        if v >= X[i]:\n",
    "            X[i+1] = v\n",
    "            return \n",
    "        X[i+1] = X[i]    \n",
    "    X[0] = v    \n",
    "\n",
    "A = [2,4,6,8,10,1,3,5,7,9] \n",
    "B = [1,2,3,4,5,6,7,8,9,10] \n",
    "C = [10,9,8,7,6,5,4,3,2,1]    \n",
    "\n",
    "X = []\n",
    "insertionSort3(A,X)\n",
    "print(A)\n",
    "print(X)"
   ]
  },
  {
   "cell_type": "code",
   "execution_count": null,
   "metadata": {},
   "outputs": [],
   "source": []
  }
 ],
 "metadata": {
  "kernelspec": {
   "display_name": "Python 3",
   "language": "python",
   "name": "python3"
  },
  "language_info": {
   "codemirror_mode": {
    "name": "ipython",
    "version": 3
   },
   "file_extension": ".py",
   "mimetype": "text/x-python",
   "name": "python",
   "nbconvert_exporter": "python",
   "pygments_lexer": "ipython3",
   "version": "3.8.3"
  }
 },
 "nbformat": 4,
 "nbformat_minor": 4
}
